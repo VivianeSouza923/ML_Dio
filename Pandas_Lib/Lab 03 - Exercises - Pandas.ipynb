{
  "nbformat": 4,
  "nbformat_minor": 0,
  "metadata": {
    "kernelspec": {
      "display_name": "Python 3",
      "language": "python",
      "name": "python3"
    },
    "language_info": {
      "codemirror_mode": {
        "name": "ipython",
        "version": 3
      },
      "file_extension": ".py",
      "mimetype": "text/x-python",
      "name": "python",
      "nbconvert_exporter": "python",
      "pygments_lexer": "ipython3",
      "version": "3.7.4"
    },
    "colab": {
      "name": "Lab 03 - Exercises - pandas",
      "provenance": [],
      "collapsed_sections": []
    }
  },
  "cells": [
    {
      "cell_type": "markdown",
      "metadata": {
        "id": "JUIIce_Wmw_O"
      },
      "source": [
        "# Pandas Exercises\n",
        "\n",
        "**Source of the Data: https://www.kaggle.com/chirin/africa-economic-banking-and-systemic-crisis-data/downloads/africa-economic-banking-and-systemic-crisis-data.zip/1**\n",
        "\n",
        "\n",
        "The dataset will be valuable to those who seek to understand the dynamics of financial stability within the African context.\n",
        "\n",
        "Content\n",
        "The dataset specifically focuses on the Banking, Debt, Financial, Inflation and Systemic Crises that occurred, from 1860 to 2014, in 13 African countries, including: Algeria, Angola, Central African Republic, Ivory Coast, Egypt, Kenya, Mauritius, Morocco, Nigeria, South Africa, Tunisia, Zambia and Zimbabwe.\n",
        "\n",
        "\n",
        "\n",
        "* caseA     number which denotes a specific country\n",
        "* cc3A     three letter country code\n",
        "* country    The name of the country\n",
        "* year   The year of the observation\n",
        "* systemic_crisis \"0\" means that no systemic crisis occurred in the year and \"1\" means that a systemic crisis occurred in the year.\n",
        "* exch_usd    The exchange rate of the country vis-a-vis the USD\n",
        "* domestic_debt_in_default   \"0\" means that no sovereign domestic debt default occurred in the year and \"1\" means that a sovereign domestic debt default occurred in the year\n",
        "* sovereign_external_debt_default  \"0\" means that no sovereign external debt default occurred in the year and \"1\" means that a sovereign external debt default occurred in the year\n",
        "* gdp_weighted_default    The total debt in default vis-a-vis the GDP\n",
        "* inflation_annual_cpi    The annual CPI Inflation rate\n",
        "* independence   \"0\" means \"no independence\" and \"1\" means \"independence\"\n",
        "* currency_crises  \"0\" means that no currency crisis occurred in the year and \"1\" means that a currency crisis occurred in the year\n",
        "* inflation_crises  \"0\" means that no inflation crisis occurred in the year and \"1\" means that an inflation crisis occurred in the year\n",
        "* banking_crisis \"no_crisis\" means that no banking crisis occurred in the year and \"crisis\" means that a banking crisis occurred in the year"
      ]
    },
    {
      "cell_type": "markdown",
      "metadata": {
        "id": "GUs_GkCimw_R"
      },
      "source": [
        "\n",
        "---\n",
        "# Complete the Tasks Below\n",
        "---"
      ]
    },
    {
      "cell_type": "markdown",
      "metadata": {
        "id": "djrI6eXcmw_S"
      },
      "source": [
        "**1. Import pandas**"
      ]
    },
    {
      "cell_type": "code",
      "metadata": {
        "id": "Igas_d6Umw_T"
      },
      "source": [
        ""
      ],
      "execution_count": null,
      "outputs": []
    },
    {
      "cell_type": "markdown",
      "metadata": {
        "id": "cZnOSjKOmw_W"
      },
      "source": [
        "**2. Read in the african_econ_crises.csv**"
      ]
    },
    {
      "cell_type": "code",
      "metadata": {
        "id": "qxoEVwnmAyDZ"
      },
      "source": [
        ""
      ],
      "execution_count": null,
      "outputs": []
    },
    {
      "cell_type": "code",
      "metadata": {
        "id": "uMyPKXHRmw_X"
      },
      "source": [
        "\n",
        "#output:\n",
        "# \tcase \tcc3 \tcountry \tyear \tsystemic_crisis \texch_usd \tdomestic_debt_in_default \tsovereign_external_debt_default \tgdp_weighted_default \tinflation_annual_cpi \tindependence \tcurrency_crises \tinflation_crises \tbanking_crisis\n",
        "#0 \t1 \tDZA \tAlgeria \t1870 \t1 \t0.052264 \t0 \t0 \t0.0 \t3.441456 \t0 \t0 \t0 \tcrisis\n",
        "#1 \t1 \tDZA \tAlgeria \t1871 \t0 \t0.052798 \t0 \t0 \t0.0 \t14.149140 \t0 \t0 \t0 \tno_crisis\n",
        "#2 \t1 \tDZA \tAlgeria \t1872 \t0 \t0.052274 \t0 \t0 \t0.0 \t-3.718593 \t0 \t0 \t0 \tno_crisis\n",
        "# ..."
      ],
      "execution_count": null,
      "outputs": []
    },
    {
      "cell_type": "markdown",
      "metadata": {
        "id": "PWMOhdLYmw_X"
      },
      "source": [
        "**3. Display the first 5 rows of the data set**"
      ]
    },
    {
      "cell_type": "code",
      "metadata": {
        "id": "Kvw4wBl9mw_Y"
      },
      "source": [
        "\n",
        "#output:\n",
        "# \tcase \tcc3 \tcountry \tyear \tsystemic_crisis \texch_usd \tdomestic_debt_in_default \tsovereign_external_debt_default \tgdp_weighted_default \tinflation_annual_cpi \tindependence \tcurrency_crises \tinflation_crises \tbanking_crisis\n",
        "#0 \t1 \tDZA \tAlgeria \t1870 \t1 \t0.052264 \t0 \t0 \t0.0 \t3.441456 \t0 \t0 \t0 \tcrisis\n",
        "#1 \t1 \tDZA \tAlgeria \t1871 \t0 \t0.052798 \t0 \t0 \t0.0 \t14.149140 \t0 \t0 \t0 \tno_crisis\n",
        "#2 \t1 \tDZA \tAlgeria \t1872 \t0 \t0.052274 \t0 \t0 \t0.0 \t-3.718593 \t0 \t0 \t0 \tno_crisis\n",
        "#3 \t1 \tDZA \tAlgeria \t1873 \t0 \t0.051680 \t0 \t0 \t0.0 \t11.203897 \t0 \t0 \t0 \tno_crisis\n",
        "#4 \t1 \tDZA \tAlgeria \t1874 \t0 \t0.051308 \t0 \t0 \t0.0 \t-3.848561 \t0 \t0 \t0 \tno_crisis"
      ],
      "execution_count": null,
      "outputs": []
    },
    {
      "cell_type": "markdown",
      "metadata": {
        "id": "yBnrWyjmmw_f"
      },
      "source": [
        "**4. How many countries are present in this data set?**"
      ]
    },
    {
      "cell_type": "code",
      "metadata": {
        "id": "x1S0xfnymw_g"
      },
      "source": [
        "\n",
        "#output: 13"
      ],
      "execution_count": null,
      "outputs": []
    },
    {
      "cell_type": "markdown",
      "metadata": {
        "id": "AkIErlWFmw_i"
      },
      "source": [
        "**5. Which countries are present in this data set?**"
      ]
    },
    {
      "cell_type": "code",
      "metadata": {
        "id": "y2-ZdkOhmw_j"
      },
      "source": [
        "\n",
        "#output:\n",
        "#array(['Algeria', 'Angola', 'Central African Republic', 'Ivory Coast',\n",
        "#       'Egypt', 'Kenya', 'Mauritius', 'Morocco', 'Nigeria',\n",
        "#       'South Africa', 'Tunisia', 'Zambia', 'Zimbabwe'], dtype=object)"
      ],
      "execution_count": null,
      "outputs": []
    },
    {
      "cell_type": "markdown",
      "metadata": {
        "id": "lzpvUj7qmw_j"
      },
      "source": [
        "**6. Which country had the highest annual CPI Inflation rate? What was the inflation rate?**"
      ]
    },
    {
      "cell_type": "code",
      "metadata": {
        "id": "xVkIWDGimw_k"
      },
      "source": [
        "\n",
        "#output:\n",
        "# \tcase \tcc3 \tcountry \tyear \tsystemic_crisis \texch_usd \tdomestic_debt_in_default \tsovereign_external_debt_default \tgdp_weighted_default \tinflation_annual_cpi \tindependence \tcurrency_crises \tinflation_crises \tbanking_crisis\n",
        "#1053 \t70 \tZWE \tZimbabwe \t2008 \t1 \t0.002 \t1 \t1 \t0.0 \t21989695.22 \t1 \t1 \t1 \tcrisis"
      ],
      "execution_count": null,
      "outputs": []
    },
    {
      "cell_type": "markdown",
      "metadata": {
        "id": "8ngwyQ5cmw_l"
      },
      "source": [
        "**7. In what year did Kenya have its first sistemic crisis?**"
      ]
    },
    {
      "cell_type": "code",
      "metadata": {
        "id": "tRWxBN_iEL-A"
      },
      "source": [
        "#ouput:\n",
        "# \tcase \tcc3 \tcountry \tyear \tsystemic_crisis \texch_usd \tdomestic_debt_in_default \tsovereign_external_debt_default \tgdp_weighted_default \tinflation_annual_cpi \tindependence \tcurrency_crises \tinflation_crises \tbanking_crisis\n",
        "#475 \t35 \tKEN \tKenya \t1985 \t1 \t16.2843 \t0 \t0 \t0.0 \t11.398 \t1 \t0 \t0 \tcrisis"
      ],
      "execution_count": null,
      "outputs": []
    },
    {
      "cell_type": "markdown",
      "metadata": {
        "id": "Z44O2oDLmw_m"
      },
      "source": [
        "**8. How many yearly systemic crisises have occurred per country?**"
      ]
    },
    {
      "cell_type": "code",
      "metadata": {
        "id": "do0CJPl8mw_m"
      },
      "source": [
        "\n",
        "#output:\n",
        "# country\n",
        "# Algeria                      4\n",
        "# Angola                       0\n",
        "# Central African Republic    19\n",
        "# Egypt                        6\n",
        "# Ivory Coast                  4\n",
        "# Kenya                       13\n",
        "# Mauritius                    0\n",
        "# Morocco                      2\n",
        "# Nigeria                     10\n",
        "# South Africa                 0\n",
        "# Tunisia                      5\n",
        "# Zambia                       4\n",
        "# Zimbabwe                    15"
      ],
      "execution_count": null,
      "outputs": []
    },
    {
      "cell_type": "markdown",
      "metadata": {
        "id": "A2HC_wQOmw_n"
      },
      "source": [
        "**9. How many years did a sovereign external debt default occur in Zimbabwe?** "
      ]
    },
    {
      "cell_type": "code",
      "metadata": {
        "id": "h4TTiRaTmw_n"
      },
      "source": [
        "#output: 30"
      ],
      "execution_count": null,
      "outputs": []
    },
    {
      "cell_type": "markdown",
      "metadata": {
        "id": "JzVg71ZTmw_o"
      },
      "source": [
        "**10. In which year did Algeria have its highest exchange rate?**"
      ]
    },
    {
      "cell_type": "code",
      "metadata": {
        "scrolled": true,
        "id": "vuT7FuXLmw_o"
      },
      "source": [
        "\n",
        "#output:\n",
        "#case \tcc3 \tcountry \tyear \tsystemic_crisis \texch_usd \tdomestic_debt_in_default \tsovereign_external_debt_default \tgdp_weighted_default \tinflation_annual_cpi \tindependence \tcurrency_crises \tinflation_crises \tbanking_crisis\n",
        "#84 \t1 \tDZA \tAlgeria \t2014 \t0 \t87.970698 \t0 \t0 \t0.0 \t2.917 \t1 \t0 \t0 \tno_crisis"
      ],
      "execution_count": null,
      "outputs": []
    }
  ]
}