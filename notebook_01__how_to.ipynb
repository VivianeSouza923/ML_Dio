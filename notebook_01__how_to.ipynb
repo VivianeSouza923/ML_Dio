{
 "cells": [
  {
   "cell_type": "markdown",
   "metadata": {},
   "source": [
    "### Definições preliminares"
   ]
  },
  {
   "cell_type": "code",
   "execution_count": 1,
   "metadata": {},
   "outputs": [],
   "source": [
    "import cv2 # OpenCV\n",
    "import numpy as np # biblioteca para trabalhar com arrays de forma eficiente\n",
    "import matplotlib.pyplot as plt # biblioteca para plotar gráficos"
   ]
  },
  {
   "cell_type": "markdown",
   "metadata": {},
   "source": [
    "## Carregar imagem"
   ]
  },
  {
   "cell_type": "code",
   "execution_count": 2,
   "metadata": {},
   "outputs": [],
   "source": [
    "# para carregar a imagem, usamos a função imread. Como parâmetro seu parâmetro, podemos utilizar o próprio arquivo da imagem, o caminho de onde está a imagem etc.\n",
    "img = cv2.imread('../figs/lena_color_256.tif')"
   ]
  },
  {
   "cell_type": "code",
   "execution_count": 4,
   "metadata": {},
   "outputs": [
    {
     "data": {
      "text/plain": [
       "array([[[125, 137, 226],\n",
       "        [130, 136, 223],\n",
       "        [118, 133, 226],\n",
       "        ...,\n",
       "        [127, 145, 230],\n",
       "        [122, 148, 232],\n",
       "        [100, 114, 210]],\n",
       "\n",
       "       [[125, 137, 226],\n",
       "        [130, 136, 223],\n",
       "        [118, 133, 226],\n",
       "        ...,\n",
       "        [127, 145, 230],\n",
       "        [122, 148, 232],\n",
       "        [100, 114, 210]],\n",
       "\n",
       "       [[124, 138, 226],\n",
       "        [121, 133, 223],\n",
       "        [117, 134, 226],\n",
       "        ...,\n",
       "        [118, 133, 222],\n",
       "        [108, 125, 217],\n",
       "        [ 90,  87, 182]],\n",
       "\n",
       "       ...,\n",
       "\n",
       "       [[ 61,  28,  90],\n",
       "        [ 61,  28,  91],\n",
       "        [ 63,  29,  97],\n",
       "        ...,\n",
       "        [ 71,  53, 140],\n",
       "        [ 73,  62, 158],\n",
       "        [ 74,  59, 161]],\n",
       "\n",
       "       [[ 60,  20,  85],\n",
       "        [ 59,  25,  91],\n",
       "        [ 62,  26,  94],\n",
       "        ...,\n",
       "        [ 82,  64, 153],\n",
       "        [ 81,  69, 172],\n",
       "        [ 78,  65, 170]],\n",
       "\n",
       "       [[ 57,  22,  82],\n",
       "        [ 62,  30,  94],\n",
       "        [ 61,  25,  95],\n",
       "        ...,\n",
       "        [ 84,  71, 167],\n",
       "        [ 78,  68, 178],\n",
       "        [ 81,  72, 183]]], dtype=uint8)"
      ]
     },
     "execution_count": 4,
     "metadata": {},
     "output_type": "execute_result"
    }
   ],
   "source": [
    "# aqui mostra a imagem sim, como array que é\n",
    "img"
   ]
  },
  {
   "cell_type": "code",
   "execution_count": 6,
   "metadata": {
    "scrolled": true
   },
   "outputs": [
    {
     "data": {
      "text/plain": [
       "array([[125, 130, 118, ..., 127, 122, 100],\n",
       "       [125, 130, 118, ..., 127, 122, 100],\n",
       "       [124, 121, 117, ..., 118, 108,  90],\n",
       "       ...,\n",
       "       [ 61,  61,  63, ...,  71,  73,  74],\n",
       "       [ 60,  59,  62, ...,  82,  81,  78],\n",
       "       [ 57,  62,  61, ...,  84,  78,  81]], dtype=uint8)"
      ]
     },
     "execution_count": 6,
     "metadata": {},
     "output_type": "execute_result"
    }
   ],
   "source": [
    "# aqui mostra como a célula de cima, mas selecionando o canal\n",
    "# imagem[linha, coluna, canal]\n",
    "img[:,:,0]"
   ]
  },
  {
   "cell_type": "code",
   "execution_count": 7,
   "metadata": {},
   "outputs": [
    {
     "data": {
      "text/plain": [
       "(256, 256, 3)"
      ]
     },
     "execution_count": 7,
     "metadata": {},
     "output_type": "execute_result"
    }
   ],
   "source": [
    "# o shape da imagem\n",
    "# tem 256 linhas, 256 colunas e 3 canais\n",
    "img.shape"
   ]
  },
  {
   "cell_type": "markdown",
   "metadata": {},
   "source": [
    "## Exibir a imagem"
   ]
  },
  {
   "cell_type": "markdown",
   "metadata": {},
   "source": [
    "### Pela OpenCV"
   ]
  },
  {
   "cell_type": "code",
   "execution_count": null,
   "metadata": {},
   "outputs": [],
   "source": [
    "cv2.imshow('Image', img)\n",
    "cv2.waitKey(0)\n",
    "cv2.destroyAllWindows()"
   ]
  },
  {
   "cell_type": "markdown",
   "metadata": {},
   "source": [
    "### Pela Matplotlib"
   ]
  },
  {
   "cell_type": "code",
   "execution_count": null,
   "metadata": {},
   "outputs": [],
   "source": [
    "img_rbg = cv2.cvtColor(img, cv2.COLOR_BGR2RGB)\n",
    "plt.imshow(img_rbg)\n",
    "plt.show()"
   ]
  },
  {
   "cell_type": "code",
   "execution_count": null,
   "metadata": {},
   "outputs": [],
   "source": [
    "plt.imshow(img)\n",
    "plt.show()"
   ]
  },
  {
   "cell_type": "code",
   "execution_count": null,
   "metadata": {},
   "outputs": [],
   "source": [
    "img_rbg = cv2.cvtColor(img, cv2.COLOR_BGR2RGB)\n",
    "plt.imshow(img_rbg[:,:,1])\n",
    "plt.show()"
   ]
  },
  {
   "cell_type": "code",
   "execution_count": null,
   "metadata": {},
   "outputs": [],
   "source": [
    "img = cv2.imread('../figs/lena_color_256.tif', cv2.IMREAD_GRAYSCALE)\n",
    "img"
   ]
  },
  {
   "cell_type": "code",
   "execution_count": null,
   "metadata": {},
   "outputs": [],
   "source": [
    "img.shape"
   ]
  },
  {
   "cell_type": "code",
   "execution_count": null,
   "metadata": {},
   "outputs": [],
   "source": [
    "plt.imshow(img)\n",
    "plt.imshow(img, 'gray')\n",
    "plt.show"
   ]
  },
  {
   "cell_type": "code",
   "execution_count": null,
   "metadata": {},
   "outputs": [],
   "source": [
    "cv2.imwrite('lena_output.png', img)"
   ]
  },
  {
   "cell_type": "code",
   "execution_count": null,
   "metadata": {},
   "outputs": [],
   "source": []
  },
  {
   "cell_type": "code",
   "execution_count": null,
   "metadata": {},
   "outputs": [],
   "source": []
  },
  {
   "cell_type": "code",
   "execution_count": null,
   "metadata": {},
   "outputs": [],
   "source": []
  },
  {
   "cell_type": "code",
   "execution_count": null,
   "metadata": {},
   "outputs": [],
   "source": []
  }
 ],
 "metadata": {
  "kernelspec": {
   "display_name": "Python Data Science",
   "language": "python",
   "name": "ia"
  },
  "language_info": {
   "codemirror_mode": {
    "name": "ipython",
    "version": 3
   },
   "file_extension": ".py",
   "mimetype": "text/x-python",
   "name": "python",
   "nbconvert_exporter": "python",
   "pygments_lexer": "ipython3",
   "version": "3.10.6"
  },
  "varInspector": {
   "cols": {
    "lenName": 16,
    "lenType": 16,
    "lenVar": 40
   },
   "kernels_config": {
    "python": {
     "delete_cmd_postfix": "",
     "delete_cmd_prefix": "del ",
     "library": "var_list.py",
     "varRefreshCmd": "print(var_dic_list())"
    },
    "r": {
     "delete_cmd_postfix": ") ",
     "delete_cmd_prefix": "rm(",
     "library": "var_list.r",
     "varRefreshCmd": "cat(var_dic_list()) "
    }
   },
   "types_to_exclude": [
    "module",
    "function",
    "builtin_function_or_method",
    "instance",
    "_Feature"
   ],
   "window_display": false
  }
 },
 "nbformat": 4,
 "nbformat_minor": 4
}
